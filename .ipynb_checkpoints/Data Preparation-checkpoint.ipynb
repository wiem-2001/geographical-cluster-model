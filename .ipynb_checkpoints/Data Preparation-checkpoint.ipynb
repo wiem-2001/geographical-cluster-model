{
 "cells": [
  {
   "cell_type": "markdown",
   "id": "833c1a4b-32c4-4e69-b0b3-3b32dc5d72b4",
   "metadata": {},
   "source": [
    "<h1>Data visualisation and cleaning </h1>"
   ]
  },
  {
   "cell_type": "code",
   "execution_count": 104,
   "id": "21b574d9-fed5-431e-820a-ae397bc98189",
   "metadata": {},
   "outputs": [],
   "source": [
    "#imports\n",
    "import pandas as pd\n",
    "import numpy as np\n",
    "import matplotlib.pyplot as plt\n",
    "from sklearn.impute import SimpleImputer\n",
    "from sklearn.preprocessing import LabelEncoder\n",
    "from sklearn.preprocessing import StandardScaler"
   ]
  },
  {
   "cell_type": "code",
   "execution_count": 106,
   "id": "4ccc1a74-539f-4157-be3a-5ead58dbe881",
   "metadata": {},
   "outputs": [
    {
     "data": {
      "text/plain": [
       "Index(['expiryDaysLeft', 'storageType', 'quantityKg', 'donationTimeHour',\n",
       "       'recipientDemandScore', 'distanceToRecipientKm', 'foodCategory',\n",
       "       'urgencyLevel'],\n",
       "      dtype='object')"
      ]
     },
     "execution_count": 106,
     "metadata": {},
     "output_type": "execute_result"
    }
   ],
   "source": [
    "df = pd.read_csv(\"urgency_classification_dataset.csv\")\n",
    "df.columns"
   ]
  },
  {
   "cell_type": "code",
   "execution_count": 108,
   "id": "152487d9-0ea7-497a-8624-d1c8b7c33e63",
   "metadata": {},
   "outputs": [
    {
     "data": {
      "text/html": [
       "<div>\n",
       "<style scoped>\n",
       "    .dataframe tbody tr th:only-of-type {\n",
       "        vertical-align: middle;\n",
       "    }\n",
       "\n",
       "    .dataframe tbody tr th {\n",
       "        vertical-align: top;\n",
       "    }\n",
       "\n",
       "    .dataframe thead th {\n",
       "        text-align: right;\n",
       "    }\n",
       "</style>\n",
       "<table border=\"1\" class=\"dataframe\">\n",
       "  <thead>\n",
       "    <tr style=\"text-align: right;\">\n",
       "      <th></th>\n",
       "      <th>expiryDaysLeft</th>\n",
       "      <th>storageType</th>\n",
       "      <th>quantityKg</th>\n",
       "      <th>donationTimeHour</th>\n",
       "      <th>recipientDemandScore</th>\n",
       "      <th>distanceToRecipientKm</th>\n",
       "      <th>foodCategory</th>\n",
       "      <th>urgencyLevel</th>\n",
       "    </tr>\n",
       "  </thead>\n",
       "  <tbody>\n",
       "    <tr>\n",
       "      <th>0</th>\n",
       "      <td>NaN</td>\n",
       "      <td>Refrigerated</td>\n",
       "      <td>23.81</td>\n",
       "      <td>22.0</td>\n",
       "      <td>57.0</td>\n",
       "      <td>49.78</td>\n",
       "      <td>Dairy</td>\n",
       "      <td>High</td>\n",
       "    </tr>\n",
       "    <tr>\n",
       "      <th>1</th>\n",
       "      <td>9.0</td>\n",
       "      <td>Frozen</td>\n",
       "      <td>61.11</td>\n",
       "      <td>6.0</td>\n",
       "      <td>21.0</td>\n",
       "      <td>40.30</td>\n",
       "      <td>Dairy</td>\n",
       "      <td>Low</td>\n",
       "    </tr>\n",
       "    <tr>\n",
       "      <th>2</th>\n",
       "      <td>0.0</td>\n",
       "      <td>Refrigerated</td>\n",
       "      <td>66.01</td>\n",
       "      <td>20.0</td>\n",
       "      <td>52.0</td>\n",
       "      <td>22.14</td>\n",
       "      <td>Vegetables</td>\n",
       "      <td>High</td>\n",
       "    </tr>\n",
       "    <tr>\n",
       "      <th>3</th>\n",
       "      <td>7.0</td>\n",
       "      <td>Frozen</td>\n",
       "      <td>81.91</td>\n",
       "      <td>9.0</td>\n",
       "      <td>63.0</td>\n",
       "      <td>23.78</td>\n",
       "      <td>Bakery</td>\n",
       "      <td>Medium</td>\n",
       "    </tr>\n",
       "    <tr>\n",
       "      <th>4</th>\n",
       "      <td>10.0</td>\n",
       "      <td>RoomTemp</td>\n",
       "      <td>21.99</td>\n",
       "      <td>23.0</td>\n",
       "      <td>26.0</td>\n",
       "      <td>22.50</td>\n",
       "      <td>Bakery</td>\n",
       "      <td>Low</td>\n",
       "    </tr>\n",
       "  </tbody>\n",
       "</table>\n",
       "</div>"
      ],
      "text/plain": [
       "   expiryDaysLeft   storageType  quantityKg  donationTimeHour  \\\n",
       "0             NaN  Refrigerated       23.81              22.0   \n",
       "1             9.0        Frozen       61.11               6.0   \n",
       "2             0.0  Refrigerated       66.01              20.0   \n",
       "3             7.0        Frozen       81.91               9.0   \n",
       "4            10.0      RoomTemp       21.99              23.0   \n",
       "\n",
       "   recipientDemandScore  distanceToRecipientKm foodCategory urgencyLevel  \n",
       "0                  57.0                  49.78        Dairy         High  \n",
       "1                  21.0                  40.30        Dairy          Low  \n",
       "2                  52.0                  22.14   Vegetables         High  \n",
       "3                  63.0                  23.78       Bakery       Medium  \n",
       "4                  26.0                  22.50       Bakery          Low  "
      ]
     },
     "execution_count": 108,
     "metadata": {},
     "output_type": "execute_result"
    }
   ],
   "source": [
    "df.head()"
   ]
  },
  {
   "cell_type": "code",
   "execution_count": 110,
   "id": "e50137d7-bbce-4da2-96ef-8a379b0d8535",
   "metadata": {},
   "outputs": [
    {
     "data": {
      "text/html": [
       "<div>\n",
       "<style scoped>\n",
       "    .dataframe tbody tr th:only-of-type {\n",
       "        vertical-align: middle;\n",
       "    }\n",
       "\n",
       "    .dataframe tbody tr th {\n",
       "        vertical-align: top;\n",
       "    }\n",
       "\n",
       "    .dataframe thead th {\n",
       "        text-align: right;\n",
       "    }\n",
       "</style>\n",
       "<table border=\"1\" class=\"dataframe\">\n",
       "  <thead>\n",
       "    <tr style=\"text-align: right;\">\n",
       "      <th></th>\n",
       "      <th>expiryDaysLeft</th>\n",
       "      <th>quantityKg</th>\n",
       "      <th>donationTimeHour</th>\n",
       "      <th>recipientDemandScore</th>\n",
       "      <th>distanceToRecipientKm</th>\n",
       "    </tr>\n",
       "  </thead>\n",
       "  <tbody>\n",
       "    <tr>\n",
       "      <th>count</th>\n",
       "      <td>1979.000000</td>\n",
       "      <td>1980.000000</td>\n",
       "      <td>1980.000000</td>\n",
       "      <td>1979.000000</td>\n",
       "      <td>1979.000000</td>\n",
       "    </tr>\n",
       "    <tr>\n",
       "      <th>mean</th>\n",
       "      <td>6.896918</td>\n",
       "      <td>49.845919</td>\n",
       "      <td>11.755051</td>\n",
       "      <td>49.075796</td>\n",
       "      <td>24.523310</td>\n",
       "    </tr>\n",
       "    <tr>\n",
       "      <th>std</th>\n",
       "      <td>4.360231</td>\n",
       "      <td>28.603961</td>\n",
       "      <td>7.020370</td>\n",
       "      <td>28.750229</td>\n",
       "      <td>14.045902</td>\n",
       "    </tr>\n",
       "    <tr>\n",
       "      <th>min</th>\n",
       "      <td>0.000000</td>\n",
       "      <td>1.000000</td>\n",
       "      <td>0.000000</td>\n",
       "      <td>0.000000</td>\n",
       "      <td>0.510000</td>\n",
       "    </tr>\n",
       "    <tr>\n",
       "      <th>25%</th>\n",
       "      <td>3.000000</td>\n",
       "      <td>25.417500</td>\n",
       "      <td>6.000000</td>\n",
       "      <td>24.000000</td>\n",
       "      <td>12.485000</td>\n",
       "    </tr>\n",
       "    <tr>\n",
       "      <th>50%</th>\n",
       "      <td>7.000000</td>\n",
       "      <td>49.760000</td>\n",
       "      <td>12.000000</td>\n",
       "      <td>49.000000</td>\n",
       "      <td>24.450000</td>\n",
       "    </tr>\n",
       "    <tr>\n",
       "      <th>75%</th>\n",
       "      <td>11.000000</td>\n",
       "      <td>74.427500</td>\n",
       "      <td>18.000000</td>\n",
       "      <td>74.000000</td>\n",
       "      <td>35.965000</td>\n",
       "    </tr>\n",
       "    <tr>\n",
       "      <th>max</th>\n",
       "      <td>14.000000</td>\n",
       "      <td>99.960000</td>\n",
       "      <td>23.000000</td>\n",
       "      <td>99.000000</td>\n",
       "      <td>49.950000</td>\n",
       "    </tr>\n",
       "  </tbody>\n",
       "</table>\n",
       "</div>"
      ],
      "text/plain": [
       "       expiryDaysLeft   quantityKg  donationTimeHour  recipientDemandScore  \\\n",
       "count     1979.000000  1980.000000       1980.000000           1979.000000   \n",
       "mean         6.896918    49.845919         11.755051             49.075796   \n",
       "std          4.360231    28.603961          7.020370             28.750229   \n",
       "min          0.000000     1.000000          0.000000              0.000000   \n",
       "25%          3.000000    25.417500          6.000000             24.000000   \n",
       "50%          7.000000    49.760000         12.000000             49.000000   \n",
       "75%         11.000000    74.427500         18.000000             74.000000   \n",
       "max         14.000000    99.960000         23.000000             99.000000   \n",
       "\n",
       "       distanceToRecipientKm  \n",
       "count            1979.000000  \n",
       "mean               24.523310  \n",
       "std                14.045902  \n",
       "min                 0.510000  \n",
       "25%                12.485000  \n",
       "50%                24.450000  \n",
       "75%                35.965000  \n",
       "max                49.950000  "
      ]
     },
     "execution_count": 110,
     "metadata": {},
     "output_type": "execute_result"
    }
   ],
   "source": [
    "df.describe()"
   ]
  },
  {
   "cell_type": "code",
   "execution_count": 112,
   "id": "4a881f4c-e57b-43a8-b3d0-036b7abe66dd",
   "metadata": {},
   "outputs": [
    {
     "name": "stdout",
     "output_type": "stream",
     "text": [
      "<class 'pandas.core.frame.DataFrame'>\n",
      "RangeIndex: 2020 entries, 0 to 2019\n",
      "Data columns (total 8 columns):\n",
      " #   Column                 Non-Null Count  Dtype  \n",
      "---  ------                 --------------  -----  \n",
      " 0   expiryDaysLeft         1979 non-null   float64\n",
      " 1   storageType            1979 non-null   object \n",
      " 2   quantityKg             1980 non-null   float64\n",
      " 3   donationTimeHour       1980 non-null   float64\n",
      " 4   recipientDemandScore   1979 non-null   float64\n",
      " 5   distanceToRecipientKm  1979 non-null   float64\n",
      " 6   foodCategory           1980 non-null   object \n",
      " 7   urgencyLevel           1980 non-null   object \n",
      "dtypes: float64(5), object(3)\n",
      "memory usage: 126.4+ KB\n"
     ]
    }
   ],
   "source": [
    "df.info()"
   ]
  },
  {
   "cell_type": "code",
   "execution_count": 114,
   "id": "591518f5-ca09-4de8-b40c-56dacd3bd857",
   "metadata": {},
   "outputs": [
    {
     "data": {
      "image/png": "[encoded data removed]",
      "text/plain": [
       "<Figure size 2000x1500 with 6 Axes>"
      ]
     },
     "metadata": {},
     "output_type": "display_data"
    }
   ],
   "source": [
    "# Displying Histograms\n",
    "df.hist(figsize=(20,15))\n",
    "plt.show()"
   ]
  },
  {
   "cell_type": "markdown",
   "id": "91c7f5ce-6aec-4314-90fd-0ed0f44b189b",
   "metadata": {},
   "source": [
    "<h2> Data Cleaning </h2>"
   ]
  },
  {
   "cell_type": "code",
   "execution_count": 117,
   "id": "4a328f23-40ce-4573-89dd-f0747af05a1b",
   "metadata": {},
   "outputs": [
    {
     "name": "stdout",
     "output_type": "stream",
     "text": [
      "Number of duplicates : 20\n"
     ]
    }
   ],
   "source": [
    "print(\"Number of duplicates :\", df.duplicated().sum())"
   ]
  },
  {
   "cell_type": "code",
   "execution_count": 119,
   "id": "7a18a903-edfb-4202-a69a-6d947db3c32e",
   "metadata": {},
   "outputs": [
    {
     "name": "stdout",
     "output_type": "stream",
     "text": [
      "Number of duplicates: 0\n"
     ]
    }
   ],
   "source": [
    "df.drop_duplicates(inplace=True)\n",
    "print(\"Number of duplicates:\", df.duplicated().sum())"
   ]
  },
  {
   "cell_type": "markdown",
   "id": "25e885c9-3d27-4cc6-8203-710d472628f6",
   "metadata": {},
   "source": [
    "<h2>Missing Values </h2>"
   ]
  },
  {
   "cell_type": "code",
   "execution_count": 122,
   "id": "d081ed30-625d-4739-968c-9b8580dbc764",
   "metadata": {},
   "outputs": [],
   "source": [
    "#calculating missing values and pourcentage\n",
    "missing_values = df.isnull().sum()\n",
    "missing_percentage = (df.isnull().sum() / len(df)) * 100\n",
    "missing_summary = pd.DataFrame({\n",
    "    'Missing Values': missing_values,\n",
    "    'Percentage (%)': missing_percentage\n",
    "})"
   ]
  },
  {
   "cell_type": "code",
   "execution_count": 124,
   "id": "d7a4e4cf-6118-4a1b-9e4a-067d2b124d62",
   "metadata": {},
   "outputs": [
    {
     "name": "stdout",
     "output_type": "stream",
     "text": [
      "                       Missing Values  Percentage (%)\n",
      "expiryDaysLeft                     40             2.0\n",
      "storageType                        40             2.0\n",
      "quantityKg                         40             2.0\n",
      "donationTimeHour                   40             2.0\n",
      "recipientDemandScore               40             2.0\n",
      "distanceToRecipientKm              40             2.0\n",
      "foodCategory                       40             2.0\n",
      "urgencyLevel                       40             2.0\n"
     ]
    }
   ],
   "source": [
    "# Display only columns with missing data\n",
    "missing_summary = missing_summary[missing_summary['Missing Values'] > 0]\n",
    "# Sort by most missing values\n",
    "missing_summary = missing_summary.sort_values(by='Missing Values', ascending=False)\n",
    "\n",
    "print(missing_summary)"
   ]
  },
  {
   "cell_type": "code",
   "execution_count": 126,
   "id": "9fd524ef-0f01-4b15-a8a3-0a06bbc66c7a",
   "metadata": {},
   "outputs": [
    {
     "name": "stdout",
     "output_type": "stream",
     "text": [
      "Missing values after imputation:\n",
      " expiryDaysLeft           0\n",
      "storageType              0\n",
      "quantityKg               0\n",
      "donationTimeHour         0\n",
      "recipientDemandScore     0\n",
      "distanceToRecipientKm    0\n",
      "foodCategory             0\n",
      "urgencyLevel             0\n",
      "dtype: int64\n"
     ]
    }
   ],
   "source": [
    "#imputation by median and mode (chosed instead of droping because missing values is distributed all of the data set by deleeting them we loose a lot)\n",
    "# Separate numerical and categorical columns\n",
    "numerical_cols = df.select_dtypes(include=['int64', 'float64']).columns\n",
    "categorical_cols = df.select_dtypes(include=['object']).columns\n",
    "\n",
    "# Impute numerical columns with median\n",
    "num_imputer = SimpleImputer(strategy='median')\n",
    "df[numerical_cols] = num_imputer.fit_transform(df[numerical_cols])\n",
    "\n",
    "# Impute categorical columns with mode\n",
    "cat_imputer = SimpleImputer(strategy='most_frequent')\n",
    "df[categorical_cols] = cat_imputer.fit_transform(df[categorical_cols])\n",
    "\n",
    "# Now df is cleaned with no missing values\n",
    "print(\"Missing values after imputation:\\n\", df.isnull().sum())\n"
   ]
  },
  {
   "cell_type": "markdown",
   "id": "249a1981-192b-4827-906d-9f93057febce",
   "metadata": {},
   "source": [
    "<h2> Encoding Categorical Features</h2>"
   ]
  },
  {
   "cell_type": "code",
   "execution_count": 129,
   "id": "c08021a0-528f-469c-802d-64e7b657213f",
   "metadata": {},
   "outputs": [
    {
     "name": "stdout",
     "output_type": "stream",
     "text": [
      "Categorical columns: ['storageType', 'foodCategory', 'urgencyLevel']\n"
     ]
    }
   ],
   "source": [
    "# Identify categorical columns\n",
    "categorical_columns = df.select_dtypes(include=['object']).columns.tolist()\n",
    "print(\"Categorical columns:\", categorical_columns)"
   ]
  },
  {
   "cell_type": "code",
   "execution_count": 131,
   "id": "36a3e596-d253-4fa0-ba9b-30c13bc9116f",
   "metadata": {},
   "outputs": [
    {
     "name": "stdout",
     "output_type": "stream",
     "text": [
      "Final columns after encoding:\n",
      " Index(['expiryDaysLeft', 'quantityKg', 'donationTimeHour',\n",
      "       'recipientDemandScore', 'distanceToRecipientKm', 'urgencyLevel',\n",
      "       'storageType_Refrigerated', 'storageType_RoomTemp',\n",
      "       'foodCategory_Dairy', 'foodCategory_Fruits', 'foodCategory_Meat',\n",
      "       'foodCategory_PreparedMeals', 'foodCategory_Vegetables'],\n",
      "      dtype='object')\n",
      "   expiryDaysLeft  quantityKg  donationTimeHour  recipientDemandScore  \\\n",
      "0             7.0       23.81              22.0                  57.0   \n",
      "1             9.0       61.11               6.0                  21.0   \n",
      "2             0.0       66.01              20.0                  52.0   \n",
      "3             7.0       81.91               9.0                  63.0   \n",
      "4            10.0       21.99              23.0                  26.0   \n",
      "\n",
      "   distanceToRecipientKm  urgencyLevel  storageType_Refrigerated  \\\n",
      "0                  49.78             0                      True   \n",
      "1                  40.30             1                     False   \n",
      "2                  22.14             0                      True   \n",
      "3                  23.78             2                     False   \n",
      "4                  22.50             1                     False   \n",
      "\n",
      "   storageType_RoomTemp  foodCategory_Dairy  foodCategory_Fruits  \\\n",
      "0                 False                True                False   \n",
      "1                 False                True                False   \n",
      "2                 False               False                False   \n",
      "3                 False               False                False   \n",
      "4                  True               False                False   \n",
      "\n",
      "   foodCategory_Meat  foodCategory_PreparedMeals  foodCategory_Vegetables  \n",
      "0              False                       False                    False  \n",
      "1              False                       False                    False  \n",
      "2              False                       False                     True  \n",
      "3              False                       False                    False  \n",
      "4              False                       False                    False  \n"
     ]
    }
   ],
   "source": [
    "# Label encode the target column\n",
    "label_encoder = LabelEncoder()\n",
    "df['urgencyLevel'] = label_encoder.fit_transform(df['urgencyLevel'])\n",
    "\n",
    "# One-hot encode other categorical columns\n",
    "df = pd.get_dummies(df, columns=['storageType', 'foodCategory'], drop_first=True)\n",
    "\n",
    "print(\"Final columns after encoding:\\n\", df.columns)\n",
    "print(df.head())"
   ]
  },
  {
   "cell_type": "markdown",
   "id": "8fe10cd5-7104-45ad-98ab-5274fc8e9cf2",
   "metadata": {},
   "source": [
    "<h2>Normalizing numerical features</h2>"
   ]
  },
  {
   "cell_type": "code",
   "execution_count": 134,
   "id": "b1099da5-09f7-404f-8e47-c36636bc6e3d",
   "metadata": {},
   "outputs": [
    {
     "name": "stdout",
     "output_type": "stream",
     "text": [
      "   expiryDaysLeft  quantityKg  donationTimeHour  recipientDemandScore  \\\n",
      "0        0.024222   -0.923251          1.475950              0.275858   \n",
      "1        0.487804    0.393335         -0.829997             -0.990515   \n",
      "2       -1.598315    0.566292          1.187707              0.099973   \n",
      "3        0.024222    1.127518         -0.397632              0.486921   \n",
      "4        0.719595   -0.987492          1.620072             -0.814630   \n",
      "\n",
      "   distanceToRecipientKm  urgencyLevel  storageType_Refrigerated  \\\n",
      "0               1.817388             0                      True   \n",
      "1               1.135668             1                     False   \n",
      "2              -0.170242             0                      True   \n",
      "3              -0.052308             2                     False   \n",
      "4              -0.144354             1                     False   \n",
      "\n",
      "   storageType_RoomTemp  foodCategory_Dairy  foodCategory_Fruits  \\\n",
      "0                 False                True                False   \n",
      "1                 False                True                False   \n",
      "2                 False               False                False   \n",
      "3                 False               False                False   \n",
      "4                  True               False                False   \n",
      "\n",
      "   foodCategory_Meat  foodCategory_PreparedMeals  foodCategory_Vegetables  \n",
      "0              False                       False                    False  \n",
      "1              False                       False                    False  \n",
      "2              False                       False                     True  \n",
      "3              False                       False                    False  \n",
      "4              False                       False                    False  \n"
     ]
    }
   ],
   "source": [
    "# Automatically select numerical columns\n",
    "numerical_columns = df.select_dtypes(include=['float64', 'int64']).columns.tolist()\n",
    "scaler = StandardScaler()\n",
    "df[numerical_columns] = scaler.fit_transform(df[numerical_columns])\n",
    "\n",
    "# Display the first few rows to check the result\n",
    "print(df.head())"
   ]
  },
  {
   "cell_type": "markdown",
   "id": "869684b4-2d4e-4360-8828-1bad3b208d51",
   "metadata": {},
   "source": [
    "<h1> export cleaned dataset </h1>"
   ]
  },
  {
   "cell_type": "code",
   "execution_count": 139,
   "id": "c3524c34-09d7-41a9-bc59-9ffcebe3f427",
   "metadata": {},
   "outputs": [],
   "source": [
    "file_path = \"urgency_classification_cleaned_dataset.csv\"\n",
    "df.to_csv(file_path, index=False)"
   ]
  }
 ],
 "metadata": {
  "kernelspec": {
   "display_name": "Python [conda env:base] *",
   "language": "python",
   "name": "conda-base-py"
  },
  "language_info": {
   "codemirror_mode": {
    "name": "ipython",
    "version": 3
   },
   "file_extension": ".py",
   "mimetype": "text/x-python",
   "name": "python",
   "nbconvert_exporter": "python",
   "pygments_lexer": "ipython3",
   "version": "3.12.7"
  }
 },
 "nbformat": 4,
 "nbformat_minor": 5
}
